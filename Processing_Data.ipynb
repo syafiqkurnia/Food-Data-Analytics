{
  "nbformat": 4,
  "nbformat_minor": 0,
  "metadata": {
    "colab": {
      "name": "Processing Data.ipynb",
      "provenance": [],
      "toc_visible": true,
      "mount_file_id": "1aPIceU9KwiZHpfW0CFL0Aykee1aPlh-H",
      "authorship_tag": "ABX9TyNmNir6QJIMzr1uUji/43aA",
      "include_colab_link": true
    },
    "kernelspec": {
      "name": "python3",
      "display_name": "Python 3"
    },
    "language_info": {
      "name": "python"
    }
  },
  "cells": [
    {
      "cell_type": "markdown",
      "metadata": {
        "id": "view-in-github",
        "colab_type": "text"
      },
      "source": [
        "<a href=\"https://colab.research.google.com/github/syafiqkurnia/Food-Data-Analytics/blob/main/Processing_Data.ipynb\" target=\"_parent\"><img src=\"https://colab.research.google.com/assets/colab-badge.svg\" alt=\"Open In Colab\"/></a>"
      ]
    },
    {
      "cell_type": "markdown",
      "metadata": {
        "id": "V0nV5dCP_U6S"
      },
      "source": [
        "# Import Library dan Dataset"
      ]
    },
    {
      "cell_type": "code",
      "metadata": {
        "id": "UON2JAhZ0pTU"
      },
      "source": [
        "import pandas as pd\n",
        "import matplotlib.pyplot as plt"
      ],
      "execution_count": 14,
      "outputs": []
    },
    {
      "cell_type": "code",
      "metadata": {
        "id": "Q6AfDaeT1X2-"
      },
      "source": [
        "df=pd.read_csv('/content/drive/MyDrive/KumpulanTugasDataSains/food_delivery_datasets.csv')"
      ],
      "execution_count": 15,
      "outputs": []
    },
    {
      "cell_type": "markdown",
      "metadata": {
        "id": "kjEszO_ECkXe"
      },
      "source": [
        "# Processing Data"
      ]
    },
    {
      "cell_type": "code",
      "metadata": {
        "id": "VTetxoiM4B1j"
      },
      "source": [
        "df['resto_id']=df['resto_id'].map(str)"
      ],
      "execution_count": 16,
      "outputs": []
    },
    {
      "cell_type": "code",
      "metadata": {
        "colab": {
          "base_uri": "https://localhost:8080/",
          "height": 609
        },
        "id": "Ew9RA7a55G84",
        "outputId": "a2c6fb2d-43b2-443a-f709-303bb5048624"
      },
      "source": [
        "df=df[df.status=='Cancelled']\n",
        "df.reset_index(drop=True)"
      ],
      "execution_count": 17,
      "outputs": [
        {
          "output_type": "execute_result",
          "data": {
            "text/html": [
              "<div>\n",
              "<style scoped>\n",
              "    .dataframe tbody tr th:only-of-type {\n",
              "        vertical-align: middle;\n",
              "    }\n",
              "\n",
              "    .dataframe tbody tr th {\n",
              "        vertical-align: top;\n",
              "    }\n",
              "\n",
              "    .dataframe thead th {\n",
              "        text-align: right;\n",
              "    }\n",
              "</style>\n",
              "<table border=\"1\" class=\"dataframe\">\n",
              "  <thead>\n",
              "    <tr style=\"text-align: right;\">\n",
              "      <th></th>\n",
              "      <th>order_id</th>\n",
              "      <th>voucher_amount</th>\n",
              "      <th>date_time</th>\n",
              "      <th>eta_seconds</th>\n",
              "      <th>food_price</th>\n",
              "      <th>cust_id</th>\n",
              "      <th>rating</th>\n",
              "      <th>delivery_fee</th>\n",
              "      <th>resto_id</th>\n",
              "      <th>status</th>\n",
              "      <th>random_id</th>\n",
              "    </tr>\n",
              "  </thead>\n",
              "  <tbody>\n",
              "    <tr>\n",
              "      <th>0</th>\n",
              "      <td>FOOD-10888</td>\n",
              "      <td>0</td>\n",
              "      <td>2018-09-18T11:14:27.408029</td>\n",
              "      <td>632</td>\n",
              "      <td>44600</td>\n",
              "      <td>1383625</td>\n",
              "      <td>NaN</td>\n",
              "      <td>10000</td>\n",
              "      <td>742756630</td>\n",
              "      <td>Cancelled</td>\n",
              "      <td>0.208880</td>\n",
              "    </tr>\n",
              "    <tr>\n",
              "      <th>1</th>\n",
              "      <td>FOOD-10394</td>\n",
              "      <td>0</td>\n",
              "      <td>2018-08-07T14:48:42.559078</td>\n",
              "      <td>331</td>\n",
              "      <td>29700</td>\n",
              "      <td>1364703</td>\n",
              "      <td>NaN</td>\n",
              "      <td>16000</td>\n",
              "      <td>742656058</td>\n",
              "      <td>Cancelled</td>\n",
              "      <td>0.640676</td>\n",
              "    </tr>\n",
              "    <tr>\n",
              "      <th>2</th>\n",
              "      <td>FOOD-10731</td>\n",
              "      <td>0</td>\n",
              "      <td>2018-09-08T12:04:40.186645</td>\n",
              "      <td>525</td>\n",
              "      <td>36200</td>\n",
              "      <td>466885</td>\n",
              "      <td>NaN</td>\n",
              "      <td>22000</td>\n",
              "      <td>742731698</td>\n",
              "      <td>Cancelled</td>\n",
              "      <td>0.233675</td>\n",
              "    </tr>\n",
              "    <tr>\n",
              "      <th>3</th>\n",
              "      <td>FOOD-10230</td>\n",
              "      <td>0</td>\n",
              "      <td>2018-07-22T19:04:04.209937</td>\n",
              "      <td>161</td>\n",
              "      <td>40000</td>\n",
              "      <td>1364703</td>\n",
              "      <td>NaN</td>\n",
              "      <td>19000</td>\n",
              "      <td>742539196</td>\n",
              "      <td>Cancelled</td>\n",
              "      <td>0.743930</td>\n",
              "    </tr>\n",
              "    <tr>\n",
              "      <th>4</th>\n",
              "      <td>FOOD-10584</td>\n",
              "      <td>0</td>\n",
              "      <td>2018-08-26T00:58:36.315973</td>\n",
              "      <td>9</td>\n",
              "      <td>38000</td>\n",
              "      <td>1351793</td>\n",
              "      <td>NaN</td>\n",
              "      <td>7000</td>\n",
              "      <td>742721020</td>\n",
              "      <td>Cancelled</td>\n",
              "      <td>0.840597</td>\n",
              "    </tr>\n",
              "    <tr>\n",
              "      <th>...</th>\n",
              "      <td>...</td>\n",
              "      <td>...</td>\n",
              "      <td>...</td>\n",
              "      <td>...</td>\n",
              "      <td>...</td>\n",
              "      <td>...</td>\n",
              "      <td>...</td>\n",
              "      <td>...</td>\n",
              "      <td>...</td>\n",
              "      <td>...</td>\n",
              "      <td>...</td>\n",
              "    </tr>\n",
              "    <tr>\n",
              "      <th>190</th>\n",
              "      <td>FOOD-10839</td>\n",
              "      <td>0</td>\n",
              "      <td>2018-09-15T20:00:42.817206</td>\n",
              "      <td>66</td>\n",
              "      <td>110800</td>\n",
              "      <td>355305</td>\n",
              "      <td>NaN</td>\n",
              "      <td>30000</td>\n",
              "      <td>200001979</td>\n",
              "      <td>Cancelled</td>\n",
              "      <td>0.943491</td>\n",
              "    </tr>\n",
              "    <tr>\n",
              "      <th>191</th>\n",
              "      <td>FOOD-10229</td>\n",
              "      <td>0</td>\n",
              "      <td>2018-07-22T19:01:49.032462</td>\n",
              "      <td>109</td>\n",
              "      <td>40900</td>\n",
              "      <td>1364703</td>\n",
              "      <td>NaN</td>\n",
              "      <td>19000</td>\n",
              "      <td>742539196</td>\n",
              "      <td>Cancelled</td>\n",
              "      <td>0.483035</td>\n",
              "    </tr>\n",
              "    <tr>\n",
              "      <th>192</th>\n",
              "      <td>FOOD-10957</td>\n",
              "      <td>0</td>\n",
              "      <td>2018-09-22T16:47:13.318708</td>\n",
              "      <td>60</td>\n",
              "      <td>252200</td>\n",
              "      <td>1206592</td>\n",
              "      <td>NaN</td>\n",
              "      <td>13000</td>\n",
              "      <td>742587459</td>\n",
              "      <td>Cancelled</td>\n",
              "      <td>0.726522</td>\n",
              "    </tr>\n",
              "    <tr>\n",
              "      <th>193</th>\n",
              "      <td>FOOD-10119</td>\n",
              "      <td>0</td>\n",
              "      <td>2018-07-12T11:18:13.950877</td>\n",
              "      <td>736</td>\n",
              "      <td>56900</td>\n",
              "      <td>304856</td>\n",
              "      <td>NaN</td>\n",
              "      <td>19000</td>\n",
              "      <td>742645951</td>\n",
              "      <td>Cancelled</td>\n",
              "      <td>0.580990</td>\n",
              "    </tr>\n",
              "    <tr>\n",
              "      <th>194</th>\n",
              "      <td>FOOD-10459</td>\n",
              "      <td>0</td>\n",
              "      <td>2018-08-13T14:24:44.933401</td>\n",
              "      <td>303</td>\n",
              "      <td>17400</td>\n",
              "      <td>1360716</td>\n",
              "      <td>NaN</td>\n",
              "      <td>4000</td>\n",
              "      <td>742620429</td>\n",
              "      <td>Cancelled</td>\n",
              "      <td>0.668113</td>\n",
              "    </tr>\n",
              "  </tbody>\n",
              "</table>\n",
              "<p>195 rows × 11 columns</p>\n",
              "</div>"
            ],
            "text/plain": [
              "       order_id  voucher_amount  ...     status  random_id\n",
              "0    FOOD-10888               0  ...  Cancelled   0.208880\n",
              "1    FOOD-10394               0  ...  Cancelled   0.640676\n",
              "2    FOOD-10731               0  ...  Cancelled   0.233675\n",
              "3    FOOD-10230               0  ...  Cancelled   0.743930\n",
              "4    FOOD-10584               0  ...  Cancelled   0.840597\n",
              "..          ...             ...  ...        ...        ...\n",
              "190  FOOD-10839               0  ...  Cancelled   0.943491\n",
              "191  FOOD-10229               0  ...  Cancelled   0.483035\n",
              "192  FOOD-10957               0  ...  Cancelled   0.726522\n",
              "193  FOOD-10119               0  ...  Cancelled   0.580990\n",
              "194  FOOD-10459               0  ...  Cancelled   0.668113\n",
              "\n",
              "[195 rows x 11 columns]"
            ]
          },
          "metadata": {},
          "execution_count": 17
        }
      ]
    },
    {
      "cell_type": "code",
      "metadata": {
        "id": "yUdlBoSA7RTl"
      },
      "source": [
        "df['cancelled_order']=1"
      ],
      "execution_count": 18,
      "outputs": []
    },
    {
      "cell_type": "code",
      "metadata": {
        "colab": {
          "base_uri": "https://localhost:8080/",
          "height": 204
        },
        "id": "JxoLR3C17WXa",
        "outputId": "e4e50af0-cbe8-41f4-e958-dc0b75588a87"
      },
      "source": [
        "df=pd.concat([df['resto_id'],df['status'],df['cancelled_order']], axis=1)\n",
        "df.columns=['resto_id','status','cancelled_order']\n",
        "df.head()"
      ],
      "execution_count": 19,
      "outputs": [
        {
          "output_type": "execute_result",
          "data": {
            "text/html": [
              "<div>\n",
              "<style scoped>\n",
              "    .dataframe tbody tr th:only-of-type {\n",
              "        vertical-align: middle;\n",
              "    }\n",
              "\n",
              "    .dataframe tbody tr th {\n",
              "        vertical-align: top;\n",
              "    }\n",
              "\n",
              "    .dataframe thead th {\n",
              "        text-align: right;\n",
              "    }\n",
              "</style>\n",
              "<table border=\"1\" class=\"dataframe\">\n",
              "  <thead>\n",
              "    <tr style=\"text-align: right;\">\n",
              "      <th></th>\n",
              "      <th>resto_id</th>\n",
              "      <th>status</th>\n",
              "      <th>cancelled_order</th>\n",
              "    </tr>\n",
              "  </thead>\n",
              "  <tbody>\n",
              "    <tr>\n",
              "      <th>20</th>\n",
              "      <td>742756630</td>\n",
              "      <td>Cancelled</td>\n",
              "      <td>1</td>\n",
              "    </tr>\n",
              "    <tr>\n",
              "      <th>22</th>\n",
              "      <td>742656058</td>\n",
              "      <td>Cancelled</td>\n",
              "      <td>1</td>\n",
              "    </tr>\n",
              "    <tr>\n",
              "      <th>29</th>\n",
              "      <td>742731698</td>\n",
              "      <td>Cancelled</td>\n",
              "      <td>1</td>\n",
              "    </tr>\n",
              "    <tr>\n",
              "      <th>30</th>\n",
              "      <td>742539196</td>\n",
              "      <td>Cancelled</td>\n",
              "      <td>1</td>\n",
              "    </tr>\n",
              "    <tr>\n",
              "      <th>34</th>\n",
              "      <td>742721020</td>\n",
              "      <td>Cancelled</td>\n",
              "      <td>1</td>\n",
              "    </tr>\n",
              "  </tbody>\n",
              "</table>\n",
              "</div>"
            ],
            "text/plain": [
              "     resto_id     status  cancelled_order\n",
              "20  742756630  Cancelled                1\n",
              "22  742656058  Cancelled                1\n",
              "29  742731698  Cancelled                1\n",
              "30  742539196  Cancelled                1\n",
              "34  742721020  Cancelled                1"
            ]
          },
          "metadata": {},
          "execution_count": 19
        }
      ]
    },
    {
      "cell_type": "code",
      "metadata": {
        "colab": {
          "base_uri": "https://localhost:8080/",
          "height": 419
        },
        "id": "1G9FyQu28GW6",
        "outputId": "fc39e2b3-d724-4dc0-8525-dbe9582dc94e"
      },
      "source": [
        "df=df.groupby(['resto_id'])\n",
        "df1=df[['cancelled_order']].sum()\n",
        "df1.reset_index()"
      ],
      "execution_count": 20,
      "outputs": [
        {
          "output_type": "execute_result",
          "data": {
            "text/html": [
              "<div>\n",
              "<style scoped>\n",
              "    .dataframe tbody tr th:only-of-type {\n",
              "        vertical-align: middle;\n",
              "    }\n",
              "\n",
              "    .dataframe tbody tr th {\n",
              "        vertical-align: top;\n",
              "    }\n",
              "\n",
              "    .dataframe thead th {\n",
              "        text-align: right;\n",
              "    }\n",
              "</style>\n",
              "<table border=\"1\" class=\"dataframe\">\n",
              "  <thead>\n",
              "    <tr style=\"text-align: right;\">\n",
              "      <th></th>\n",
              "      <th>resto_id</th>\n",
              "      <th>cancelled_order</th>\n",
              "    </tr>\n",
              "  </thead>\n",
              "  <tbody>\n",
              "    <tr>\n",
              "      <th>0</th>\n",
              "      <td>200001979</td>\n",
              "      <td>1</td>\n",
              "    </tr>\n",
              "    <tr>\n",
              "      <th>1</th>\n",
              "      <td>200003382</td>\n",
              "      <td>2</td>\n",
              "    </tr>\n",
              "    <tr>\n",
              "      <th>2</th>\n",
              "      <td>200008157</td>\n",
              "      <td>3</td>\n",
              "    </tr>\n",
              "    <tr>\n",
              "      <th>3</th>\n",
              "      <td>200009033</td>\n",
              "      <td>2</td>\n",
              "    </tr>\n",
              "    <tr>\n",
              "      <th>4</th>\n",
              "      <td>742526664</td>\n",
              "      <td>1</td>\n",
              "    </tr>\n",
              "    <tr>\n",
              "      <th>...</th>\n",
              "      <td>...</td>\n",
              "      <td>...</td>\n",
              "    </tr>\n",
              "    <tr>\n",
              "      <th>144</th>\n",
              "      <td>742792299</td>\n",
              "      <td>1</td>\n",
              "    </tr>\n",
              "    <tr>\n",
              "      <th>145</th>\n",
              "      <td>742793536</td>\n",
              "      <td>1</td>\n",
              "    </tr>\n",
              "    <tr>\n",
              "      <th>146</th>\n",
              "      <td>742807480</td>\n",
              "      <td>1</td>\n",
              "    </tr>\n",
              "    <tr>\n",
              "      <th>147</th>\n",
              "      <td>742810086</td>\n",
              "      <td>1</td>\n",
              "    </tr>\n",
              "    <tr>\n",
              "      <th>148</th>\n",
              "      <td>742813095</td>\n",
              "      <td>2</td>\n",
              "    </tr>\n",
              "  </tbody>\n",
              "</table>\n",
              "<p>149 rows × 2 columns</p>\n",
              "</div>"
            ],
            "text/plain": [
              "      resto_id  cancelled_order\n",
              "0    200001979                1\n",
              "1    200003382                2\n",
              "2    200008157                3\n",
              "3    200009033                2\n",
              "4    742526664                1\n",
              "..         ...              ...\n",
              "144  742792299                1\n",
              "145  742793536                1\n",
              "146  742807480                1\n",
              "147  742810086                1\n",
              "148  742813095                2\n",
              "\n",
              "[149 rows x 2 columns]"
            ]
          },
          "metadata": {},
          "execution_count": 20
        }
      ]
    },
    {
      "cell_type": "code",
      "metadata": {
        "colab": {
          "base_uri": "https://localhost:8080/",
          "height": 419
        },
        "id": "yWpt0Ys28tLJ",
        "outputId": "bef6143d-d2b8-43f7-fd56-0f7c360e3bb0"
      },
      "source": [
        "df_final=df1.sort_values(by='cancelled_order',ascending=False)\n",
        "df_final.reset_index()"
      ],
      "execution_count": 21,
      "outputs": [
        {
          "output_type": "execute_result",
          "data": {
            "text/html": [
              "<div>\n",
              "<style scoped>\n",
              "    .dataframe tbody tr th:only-of-type {\n",
              "        vertical-align: middle;\n",
              "    }\n",
              "\n",
              "    .dataframe tbody tr th {\n",
              "        vertical-align: top;\n",
              "    }\n",
              "\n",
              "    .dataframe thead th {\n",
              "        text-align: right;\n",
              "    }\n",
              "</style>\n",
              "<table border=\"1\" class=\"dataframe\">\n",
              "  <thead>\n",
              "    <tr style=\"text-align: right;\">\n",
              "      <th></th>\n",
              "      <th>resto_id</th>\n",
              "      <th>cancelled_order</th>\n",
              "    </tr>\n",
              "  </thead>\n",
              "  <tbody>\n",
              "    <tr>\n",
              "      <th>0</th>\n",
              "      <td>742622470</td>\n",
              "      <td>8</td>\n",
              "    </tr>\n",
              "    <tr>\n",
              "      <th>1</th>\n",
              "      <td>742539196</td>\n",
              "      <td>4</td>\n",
              "    </tr>\n",
              "    <tr>\n",
              "      <th>2</th>\n",
              "      <td>200008157</td>\n",
              "      <td>3</td>\n",
              "    </tr>\n",
              "    <tr>\n",
              "      <th>3</th>\n",
              "      <td>742537825</td>\n",
              "      <td>3</td>\n",
              "    </tr>\n",
              "    <tr>\n",
              "      <th>4</th>\n",
              "      <td>742689962</td>\n",
              "      <td>3</td>\n",
              "    </tr>\n",
              "    <tr>\n",
              "      <th>...</th>\n",
              "      <td>...</td>\n",
              "      <td>...</td>\n",
              "    </tr>\n",
              "    <tr>\n",
              "      <th>144</th>\n",
              "      <td>742596825</td>\n",
              "      <td>1</td>\n",
              "    </tr>\n",
              "    <tr>\n",
              "      <th>145</th>\n",
              "      <td>742596786</td>\n",
              "      <td>1</td>\n",
              "    </tr>\n",
              "    <tr>\n",
              "      <th>146</th>\n",
              "      <td>742594853</td>\n",
              "      <td>1</td>\n",
              "    </tr>\n",
              "    <tr>\n",
              "      <th>147</th>\n",
              "      <td>742594499</td>\n",
              "      <td>1</td>\n",
              "    </tr>\n",
              "    <tr>\n",
              "      <th>148</th>\n",
              "      <td>200001979</td>\n",
              "      <td>1</td>\n",
              "    </tr>\n",
              "  </tbody>\n",
              "</table>\n",
              "<p>149 rows × 2 columns</p>\n",
              "</div>"
            ],
            "text/plain": [
              "      resto_id  cancelled_order\n",
              "0    742622470                8\n",
              "1    742539196                4\n",
              "2    200008157                3\n",
              "3    742537825                3\n",
              "4    742689962                3\n",
              "..         ...              ...\n",
              "144  742596825                1\n",
              "145  742596786                1\n",
              "146  742594853                1\n",
              "147  742594499                1\n",
              "148  200001979                1\n",
              "\n",
              "[149 rows x 2 columns]"
            ]
          },
          "metadata": {},
          "execution_count": 21
        }
      ]
    },
    {
      "cell_type": "markdown",
      "metadata": {
        "id": "1VMAyy21DFvI"
      },
      "source": [
        "# Visualisasi Data"
      ]
    },
    {
      "cell_type": "code",
      "metadata": {
        "colab": {
          "base_uri": "https://localhost:8080/",
          "height": 961
        },
        "id": "PC-mB8C89mKf",
        "outputId": "f39d51d5-4b88-421e-d043-76094d6f5243"
      },
      "source": [
        "plt.figure(figsize=(30,15))\n",
        "plt.plot(df1)\n",
        "\n",
        "plt.title('Total Order yang Di-cancel Per Restoran')\n",
        "plt.xlabel('Resto ID')\n",
        "plt.xticks(rotation=90)\n",
        "plt.ylabel('Cancelled Order')\n",
        "\n",
        "plt.show()"
      ],
      "execution_count": 22,
      "outputs": [
        {
          "output_type": "display_data",
          "data": {
            "image/png": "[encoded data removed]",
            "text/plain": [
              "<Figure size 2160x1080 with 1 Axes>"
            ]
          },
          "metadata": {
            "needs_background": "light"
          }
        }
      ]
    }
  ]
}